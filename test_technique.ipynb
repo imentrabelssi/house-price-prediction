{
  "nbformat": 4,
  "nbformat_minor": 0,
  "metadata": {
    "colab": {
      "name": "test_technique.ipynb",
      "provenance": [],
      "collapsed_sections": []
    },
    "kernelspec": {
      "name": "python3",
      "display_name": "Python 3"
    },
    "accelerator": "GPU"
  },
  "cells": [
    {
      "cell_type": "markdown",
      "metadata": {
        "id": "933PD0o3u1L7"
      },
      "source": [
        "#Connect Google Drive"
      ]
    },
    {
      "cell_type": "code",
      "metadata": {
        "colab": {
          "base_uri": "https://localhost:8080/"
        },
        "id": "kxLZPYwSuoiH",
        "outputId": "9181101f-318e-42cb-88eb-42a8e4a130df"
      },
      "source": [
        "from google.colab import drive\r\n",
        "drive.mount('/content/gdrive')\r\n",
        "!ln -s /content/gdrive/My\\ Drive/ /mydrive"
      ],
      "execution_count": 1,
      "outputs": [
        {
          "output_type": "stream",
          "text": [
            "Mounted at /content/gdrive\n"
          ],
          "name": "stdout"
        }
      ]
    },
    {
      "cell_type": "code",
      "metadata": {
        "colab": {
          "base_uri": "https://localhost:8080/"
        },
        "id": "Fds3df7ju58Q",
        "outputId": "7cca616b-682e-4095-def6-56a0a17eabfc"
      },
      "source": [
        "%cd /mydrive/Test\\ Technique__Imen\\ TRABELSI"
      ],
      "execution_count": 2,
      "outputs": [
        {
          "output_type": "stream",
          "text": [
            "/content/gdrive/My Drive/Test Technique__Imen TRABELSI\n"
          ],
          "name": "stdout"
        }
      ]
    },
    {
      "cell_type": "markdown",
      "metadata": {
        "id": "zuPNpd-FvRpm"
      },
      "source": [
        "#Import packages"
      ]
    },
    {
      "cell_type": "code",
      "metadata": {
        "id": "wiNIoaNxvKix"
      },
      "source": [
        "import pandas as pd\r\n",
        "import numpy as np\r\n",
        "import matplotlib.pyplot as plt\r\n",
        "import seaborn as sns\r\n",
        "%matplotlib inline\r\n",
        "import warnings\r\n",
        "warnings.filterwarnings(\"ignore\")"
      ],
      "execution_count": 3,
      "outputs": []
    },
    {
      "cell_type": "code",
      "metadata": {
        "id": "fRKee-tZvVuJ"
      },
      "source": [
        "import plotly.graph_objs as go"
      ],
      "execution_count": 4,
      "outputs": []
    },
    {
      "cell_type": "code",
      "metadata": {
        "id": "YLtcipE9vXpC"
      },
      "source": [
        "from sklearn.model_selection import GridSearchCV, train_test_split\r\n",
        "from xgboost import XGBRegressor\r\n",
        "from sklearn.preprocessing import StandardScaler"
      ],
      "execution_count": 5,
      "outputs": []
    },
    {
      "cell_type": "code",
      "metadata": {
        "id": "EuNCoGC4vZpg"
      },
      "source": [
        "from sklearn.metrics import mean_squared_error\r\n",
        "from sklearn.ensemble import RandomForestRegressor\r\n",
        "from sklearn.svm import SVR"
      ],
      "execution_count": 6,
      "outputs": []
    },
    {
      "cell_type": "code",
      "metadata": {
        "id": "mN66YjrAvcIU"
      },
      "source": [
        "from sklearn.ensemble import RandomForestClassifier"
      ],
      "execution_count": 7,
      "outputs": []
    },
    {
      "cell_type": "code",
      "metadata": {
        "id": "htn994hsvezs"
      },
      "source": [
        "import datetime\r\n",
        "from sklearn.metrics import mean_absolute_error\r\n",
        "from math import sqrt"
      ],
      "execution_count": 8,
      "outputs": []
    },
    {
      "cell_type": "markdown",
      "metadata": {
        "id": "WDuVFV_ivi6k"
      },
      "source": [
        "#Import data "
      ]
    },
    {
      "cell_type": "code",
      "metadata": {
        "id": "WnZh-p50vgXx"
      },
      "source": [
        "data = pd.read_excel('./datasets/Data - Test technique PFE 8.xlsx')"
      ],
      "execution_count": 9,
      "outputs": []
    },
    {
      "cell_type": "code",
      "metadata": {
        "id": "vFovyQ-zvlgt"
      },
      "source": [
        "position=pd.read_csv('./datasets/mer positions.csv')"
      ],
      "execution_count": 10,
      "outputs": []
    },
    {
      "cell_type": "code",
      "metadata": {
        "colab": {
          "base_uri": "https://localhost:8080/"
        },
        "id": "Lc9uf0PxvoEz",
        "outputId": "ab30ebe9-82b4-4864-835e-b11071056087"
      },
      "source": [
        "position.columns"
      ],
      "execution_count": 11,
      "outputs": [
        {
          "output_type": "execute_result",
          "data": {
            "text/plain": [
              "Index(['longitude', 'latitude', 'll'], dtype='object')"
            ]
          },
          "metadata": {
            "tags": []
          },
          "execution_count": 11
        }
      ]
    },
    {
      "cell_type": "code",
      "metadata": {
        "colab": {
          "base_uri": "https://localhost:8080/"
        },
        "id": "Wqmj-EWWvrQL",
        "outputId": "33df6f91-0924-4a16-d966-4c394011bd70"
      },
      "source": [
        "data.columns"
      ],
      "execution_count": 12,
      "outputs": [
        {
          "output_type": "execute_result",
          "data": {
            "text/plain": [
              "Index(['id_mutation', 'date_mutation', 'surface_reelle_bati',\n",
              "       'nombre_pieces_principales', 'longitude', 'latitude', 'distance_mer',\n",
              "       'prix'],\n",
              "      dtype='object')"
            ]
          },
          "metadata": {
            "tags": []
          },
          "execution_count": 12
        }
      ]
    },
    {
      "cell_type": "code",
      "metadata": {
        "colab": {
          "base_uri": "https://localhost:8080/",
          "height": 297
        },
        "id": "O_FmPRFMvtSk",
        "outputId": "534599ce-15ec-4e9d-da8d-9ba195bf7cb0"
      },
      "source": [
        "position.describe()"
      ],
      "execution_count": 13,
      "outputs": [
        {
          "output_type": "execute_result",
          "data": {
            "text/html": [
              "<div>\n",
              "<style scoped>\n",
              "    .dataframe tbody tr th:only-of-type {\n",
              "        vertical-align: middle;\n",
              "    }\n",
              "\n",
              "    .dataframe tbody tr th {\n",
              "        vertical-align: top;\n",
              "    }\n",
              "\n",
              "    .dataframe thead th {\n",
              "        text-align: right;\n",
              "    }\n",
              "</style>\n",
              "<table border=\"1\" class=\"dataframe\">\n",
              "  <thead>\n",
              "    <tr style=\"text-align: right;\">\n",
              "      <th></th>\n",
              "      <th>longitude</th>\n",
              "      <th>latitude</th>\n",
              "      <th>ll</th>\n",
              "    </tr>\n",
              "  </thead>\n",
              "  <tbody>\n",
              "    <tr>\n",
              "      <th>count</th>\n",
              "      <td>793.000000</td>\n",
              "      <td>793.000000</td>\n",
              "      <td>793.0</td>\n",
              "    </tr>\n",
              "    <tr>\n",
              "      <th>mean</th>\n",
              "      <td>6.066364</td>\n",
              "      <td>43.110443</td>\n",
              "      <td>0.0</td>\n",
              "    </tr>\n",
              "    <tr>\n",
              "      <th>std</th>\n",
              "      <td>0.300359</td>\n",
              "      <td>0.086172</td>\n",
              "      <td>0.0</td>\n",
              "    </tr>\n",
              "    <tr>\n",
              "      <th>min</th>\n",
              "      <td>5.670597</td>\n",
              "      <td>43.026063</td>\n",
              "      <td>0.0</td>\n",
              "    </tr>\n",
              "    <tr>\n",
              "      <th>25%</th>\n",
              "      <td>5.825155</td>\n",
              "      <td>43.066586</td>\n",
              "      <td>0.0</td>\n",
              "    </tr>\n",
              "    <tr>\n",
              "      <th>50%</th>\n",
              "      <td>5.941316</td>\n",
              "      <td>43.083979</td>\n",
              "      <td>0.0</td>\n",
              "    </tr>\n",
              "    <tr>\n",
              "      <th>75%</th>\n",
              "      <td>6.161761</td>\n",
              "      <td>43.115330</td>\n",
              "      <td>0.0</td>\n",
              "    </tr>\n",
              "    <tr>\n",
              "      <th>max</th>\n",
              "      <td>6.929988</td>\n",
              "      <td>43.475887</td>\n",
              "      <td>0.0</td>\n",
              "    </tr>\n",
              "  </tbody>\n",
              "</table>\n",
              "</div>"
            ],
            "text/plain": [
              "        longitude    latitude     ll\n",
              "count  793.000000  793.000000  793.0\n",
              "mean     6.066364   43.110443    0.0\n",
              "std      0.300359    0.086172    0.0\n",
              "min      5.670597   43.026063    0.0\n",
              "25%      5.825155   43.066586    0.0\n",
              "50%      5.941316   43.083979    0.0\n",
              "75%      6.161761   43.115330    0.0\n",
              "max      6.929988   43.475887    0.0"
            ]
          },
          "metadata": {
            "tags": []
          },
          "execution_count": 13
        }
      ]
    },
    {
      "cell_type": "code",
      "metadata": {
        "colab": {
          "base_uri": "https://localhost:8080/",
          "height": 297
        },
        "id": "tsPne3ANvwEj",
        "outputId": "36bb682d-140a-4bf3-c853-e55c0501572b"
      },
      "source": [
        "data.describe()"
      ],
      "execution_count": 14,
      "outputs": [
        {
          "output_type": "execute_result",
          "data": {
            "text/html": [
              "<div>\n",
              "<style scoped>\n",
              "    .dataframe tbody tr th:only-of-type {\n",
              "        vertical-align: middle;\n",
              "    }\n",
              "\n",
              "    .dataframe tbody tr th {\n",
              "        vertical-align: top;\n",
              "    }\n",
              "\n",
              "    .dataframe thead th {\n",
              "        text-align: right;\n",
              "    }\n",
              "</style>\n",
              "<table border=\"1\" class=\"dataframe\">\n",
              "  <thead>\n",
              "    <tr style=\"text-align: right;\">\n",
              "      <th></th>\n",
              "      <th>date_mutation</th>\n",
              "      <th>surface_reelle_bati</th>\n",
              "      <th>nombre_pieces_principales</th>\n",
              "      <th>longitude</th>\n",
              "      <th>latitude</th>\n",
              "      <th>distance_mer</th>\n",
              "      <th>prix</th>\n",
              "    </tr>\n",
              "  </thead>\n",
              "  <tbody>\n",
              "    <tr>\n",
              "      <th>count</th>\n",
              "      <td>999.0</td>\n",
              "      <td>999.000000</td>\n",
              "      <td>999.000000</td>\n",
              "      <td>999.000000</td>\n",
              "      <td>999.000000</td>\n",
              "      <td>0.0</td>\n",
              "      <td>9.990000e+02</td>\n",
              "    </tr>\n",
              "    <tr>\n",
              "      <th>mean</th>\n",
              "      <td>2014.0</td>\n",
              "      <td>90.451451</td>\n",
              "      <td>3.810811</td>\n",
              "      <td>6.594757</td>\n",
              "      <td>43.413464</td>\n",
              "      <td>NaN</td>\n",
              "      <td>4.023374e+05</td>\n",
              "    </tr>\n",
              "    <tr>\n",
              "      <th>std</th>\n",
              "      <td>0.0</td>\n",
              "      <td>36.268557</td>\n",
              "      <td>1.193353</td>\n",
              "      <td>0.182657</td>\n",
              "      <td>0.108505</td>\n",
              "      <td>NaN</td>\n",
              "      <td>4.355703e+05</td>\n",
              "    </tr>\n",
              "    <tr>\n",
              "      <th>min</th>\n",
              "      <td>2014.0</td>\n",
              "      <td>14.000000</td>\n",
              "      <td>0.000000</td>\n",
              "      <td>5.747522</td>\n",
              "      <td>43.157829</td>\n",
              "      <td>NaN</td>\n",
              "      <td>5.000000e+03</td>\n",
              "    </tr>\n",
              "    <tr>\n",
              "      <th>25%</th>\n",
              "      <td>2014.0</td>\n",
              "      <td>69.000000</td>\n",
              "      <td>3.000000</td>\n",
              "      <td>6.518627</td>\n",
              "      <td>43.319428</td>\n",
              "      <td>NaN</td>\n",
              "      <td>2.155000e+05</td>\n",
              "    </tr>\n",
              "    <tr>\n",
              "      <th>50%</th>\n",
              "      <td>2014.0</td>\n",
              "      <td>88.000000</td>\n",
              "      <td>4.000000</td>\n",
              "      <td>6.617796</td>\n",
              "      <td>43.436563</td>\n",
              "      <td>NaN</td>\n",
              "      <td>2.950000e+05</td>\n",
              "    </tr>\n",
              "    <tr>\n",
              "      <th>75%</th>\n",
              "      <td>2014.0</td>\n",
              "      <td>107.000000</td>\n",
              "      <td>4.000000</td>\n",
              "      <td>6.732366</td>\n",
              "      <td>43.495205</td>\n",
              "      <td>NaN</td>\n",
              "      <td>4.250000e+05</td>\n",
              "    </tr>\n",
              "    <tr>\n",
              "      <th>max</th>\n",
              "      <td>2014.0</td>\n",
              "      <td>300.000000</td>\n",
              "      <td>9.000000</td>\n",
              "      <td>6.926844</td>\n",
              "      <td>43.774502</td>\n",
              "      <td>NaN</td>\n",
              "      <td>5.880000e+06</td>\n",
              "    </tr>\n",
              "  </tbody>\n",
              "</table>\n",
              "</div>"
            ],
            "text/plain": [
              "       date_mutation  surface_reelle_bati  ...  distance_mer          prix\n",
              "count          999.0           999.000000  ...           0.0  9.990000e+02\n",
              "mean          2014.0            90.451451  ...           NaN  4.023374e+05\n",
              "std              0.0            36.268557  ...           NaN  4.355703e+05\n",
              "min           2014.0            14.000000  ...           NaN  5.000000e+03\n",
              "25%           2014.0            69.000000  ...           NaN  2.155000e+05\n",
              "50%           2014.0            88.000000  ...           NaN  2.950000e+05\n",
              "75%           2014.0           107.000000  ...           NaN  4.250000e+05\n",
              "max           2014.0           300.000000  ...           NaN  5.880000e+06\n",
              "\n",
              "[8 rows x 7 columns]"
            ]
          },
          "metadata": {
            "tags": []
          },
          "execution_count": 14
        }
      ]
    },
    {
      "cell_type": "code",
      "metadata": {
        "id": "Ya8jxcP4vzED"
      },
      "source": [
        "dist=[]\r\n",
        "div_dist=[]\r\n",
        "\r\n",
        "for i in range(len(data)):\r\n",
        "  for j in range(len(position)):\r\n",
        "    dist.append(((data.longitude[i] - position.longitude[j])**2 + (data.latitude[i] - position.latitude[j])**2)**0.5)"
      ],
      "execution_count": 15,
      "outputs": []
    },
    {
      "cell_type": "code",
      "metadata": {
        "id": "PZPP9E8Gv1h7"
      },
      "source": [
        "data.distance_mer[0] = min(dist[0:793])"
      ],
      "execution_count": 16,
      "outputs": []
    },
    {
      "cell_type": "code",
      "metadata": {
        "id": "I2rugK3Vv_et"
      },
      "source": [
        "for i in range(1,len(data)-1):\r\n",
        "  k=range(0,791415,793)\r\n",
        "  data.distance_mer[i]=min(dist[k[i]:k[i+1]])"
      ],
      "execution_count": 17,
      "outputs": []
    },
    {
      "cell_type": "code",
      "metadata": {
        "id": "_nIw5L6ZwEzl"
      },
      "source": [
        "for j in range(len(position)):\r\n",
        "\r\n",
        "  div_dist.append(((data.longitude[998] - position.longitude[j])**2 + (data.latitude[998] - position.latitude[j])**2)**0.5)\r\n",
        "\r\n",
        "data.distance_mer[998]=min(div_dist)    "
      ],
      "execution_count": 18,
      "outputs": []
    },
    {
      "cell_type": "code",
      "metadata": {
        "colab": {
          "base_uri": "https://localhost:8080/",
          "height": 204
        },
        "id": "7UofTk5YwI0C",
        "outputId": "05b299bc-b930-4694-e39a-b873649aa18e"
      },
      "source": [
        "data.tail()"
      ],
      "execution_count": 19,
      "outputs": [
        {
          "output_type": "execute_result",
          "data": {
            "text/html": [
              "<div>\n",
              "<style scoped>\n",
              "    .dataframe tbody tr th:only-of-type {\n",
              "        vertical-align: middle;\n",
              "    }\n",
              "\n",
              "    .dataframe tbody tr th {\n",
              "        vertical-align: top;\n",
              "    }\n",
              "\n",
              "    .dataframe thead th {\n",
              "        text-align: right;\n",
              "    }\n",
              "</style>\n",
              "<table border=\"1\" class=\"dataframe\">\n",
              "  <thead>\n",
              "    <tr style=\"text-align: right;\">\n",
              "      <th></th>\n",
              "      <th>id_mutation</th>\n",
              "      <th>date_mutation</th>\n",
              "      <th>surface_reelle_bati</th>\n",
              "      <th>nombre_pieces_principales</th>\n",
              "      <th>longitude</th>\n",
              "      <th>latitude</th>\n",
              "      <th>distance_mer</th>\n",
              "      <th>prix</th>\n",
              "    </tr>\n",
              "  </thead>\n",
              "  <tbody>\n",
              "    <tr>\n",
              "      <th>994</th>\n",
              "      <td>2014-877801</td>\n",
              "      <td>2014</td>\n",
              "      <td>88</td>\n",
              "      <td>4</td>\n",
              "      <td>6.033051</td>\n",
              "      <td>43.341624</td>\n",
              "      <td>0.239383</td>\n",
              "      <td>493917.7</td>\n",
              "    </tr>\n",
              "    <tr>\n",
              "      <th>995</th>\n",
              "      <td>2014-877805</td>\n",
              "      <td>2014</td>\n",
              "      <td>32</td>\n",
              "      <td>1</td>\n",
              "      <td>5.876707</td>\n",
              "      <td>43.602998</td>\n",
              "      <td>0.466456</td>\n",
              "      <td>185000.0</td>\n",
              "    </tr>\n",
              "    <tr>\n",
              "      <th>996</th>\n",
              "      <td>2014-877806</td>\n",
              "      <td>2014</td>\n",
              "      <td>79</td>\n",
              "      <td>4</td>\n",
              "      <td>6.691434</td>\n",
              "      <td>43.619773</td>\n",
              "      <td>0.209958</td>\n",
              "      <td>225000.0</td>\n",
              "    </tr>\n",
              "    <tr>\n",
              "      <th>997</th>\n",
              "      <td>2014-877809</td>\n",
              "      <td>2014</td>\n",
              "      <td>50</td>\n",
              "      <td>2</td>\n",
              "      <td>6.693541</td>\n",
              "      <td>43.624888</td>\n",
              "      <td>0.214363</td>\n",
              "      <td>140000.0</td>\n",
              "    </tr>\n",
              "    <tr>\n",
              "      <th>998</th>\n",
              "      <td>2014-877816</td>\n",
              "      <td>2014</td>\n",
              "      <td>108</td>\n",
              "      <td>4</td>\n",
              "      <td>6.045601</td>\n",
              "      <td>43.327445</td>\n",
              "      <td>0.227088</td>\n",
              "      <td>120000.0</td>\n",
              "    </tr>\n",
              "  </tbody>\n",
              "</table>\n",
              "</div>"
            ],
            "text/plain": [
              "     id_mutation  date_mutation  ...  distance_mer      prix\n",
              "994  2014-877801           2014  ...      0.239383  493917.7\n",
              "995  2014-877805           2014  ...      0.466456  185000.0\n",
              "996  2014-877806           2014  ...      0.209958  225000.0\n",
              "997  2014-877809           2014  ...      0.214363  140000.0\n",
              "998  2014-877816           2014  ...      0.227088  120000.0\n",
              "\n",
              "[5 rows x 8 columns]"
            ]
          },
          "metadata": {
            "tags": []
          },
          "execution_count": 19
        }
      ]
    },
    {
      "cell_type": "code",
      "metadata": {
        "colab": {
          "base_uri": "https://localhost:8080/"
        },
        "id": "Kd2Cgc8jwMYz",
        "outputId": "c4808be1-64b8-4eb5-b256-b81f20f96829"
      },
      "source": [
        "data.isna().sum()"
      ],
      "execution_count": 20,
      "outputs": [
        {
          "output_type": "execute_result",
          "data": {
            "text/plain": [
              "id_mutation                  0\n",
              "date_mutation                0\n",
              "surface_reelle_bati          0\n",
              "nombre_pieces_principales    0\n",
              "longitude                    0\n",
              "latitude                     0\n",
              "distance_mer                 0\n",
              "prix                         0\n",
              "dtype: int64"
            ]
          },
          "metadata": {
            "tags": []
          },
          "execution_count": 20
        }
      ]
    },
    {
      "cell_type": "code",
      "metadata": {
        "colab": {
          "base_uri": "https://localhost:8080/"
        },
        "id": "c02Gvf01wOw2",
        "outputId": "c14734b5-03d9-40f7-d6a5-2197de579816"
      },
      "source": [
        "data.info()"
      ],
      "execution_count": 21,
      "outputs": [
        {
          "output_type": "stream",
          "text": [
            "<class 'pandas.core.frame.DataFrame'>\n",
            "RangeIndex: 999 entries, 0 to 998\n",
            "Data columns (total 8 columns):\n",
            " #   Column                     Non-Null Count  Dtype  \n",
            "---  ------                     --------------  -----  \n",
            " 0   id_mutation                999 non-null    object \n",
            " 1   date_mutation              999 non-null    int64  \n",
            " 2   surface_reelle_bati        999 non-null    int64  \n",
            " 3   nombre_pieces_principales  999 non-null    int64  \n",
            " 4   longitude                  999 non-null    float64\n",
            " 5   latitude                   999 non-null    float64\n",
            " 6   distance_mer               999 non-null    float64\n",
            " 7   prix                       999 non-null    float64\n",
            "dtypes: float64(4), int64(3), object(1)\n",
            "memory usage: 62.6+ KB\n"
          ],
          "name": "stdout"
        }
      ]
    },
    {
      "cell_type": "code",
      "metadata": {
        "colab": {
          "base_uri": "https://localhost:8080/",
          "height": 297
        },
        "id": "nghUKkErwRqW",
        "outputId": "4a9a79f6-b6b1-4a45-c5c1-77bec737ce50"
      },
      "source": [
        "data.describe()"
      ],
      "execution_count": 22,
      "outputs": [
        {
          "output_type": "execute_result",
          "data": {
            "text/html": [
              "<div>\n",
              "<style scoped>\n",
              "    .dataframe tbody tr th:only-of-type {\n",
              "        vertical-align: middle;\n",
              "    }\n",
              "\n",
              "    .dataframe tbody tr th {\n",
              "        vertical-align: top;\n",
              "    }\n",
              "\n",
              "    .dataframe thead th {\n",
              "        text-align: right;\n",
              "    }\n",
              "</style>\n",
              "<table border=\"1\" class=\"dataframe\">\n",
              "  <thead>\n",
              "    <tr style=\"text-align: right;\">\n",
              "      <th></th>\n",
              "      <th>date_mutation</th>\n",
              "      <th>surface_reelle_bati</th>\n",
              "      <th>nombre_pieces_principales</th>\n",
              "      <th>longitude</th>\n",
              "      <th>latitude</th>\n",
              "      <th>distance_mer</th>\n",
              "      <th>prix</th>\n",
              "    </tr>\n",
              "  </thead>\n",
              "  <tbody>\n",
              "    <tr>\n",
              "      <th>count</th>\n",
              "      <td>999.0</td>\n",
              "      <td>999.000000</td>\n",
              "      <td>999.000000</td>\n",
              "      <td>999.000000</td>\n",
              "      <td>999.000000</td>\n",
              "      <td>999.000000</td>\n",
              "      <td>9.990000e+02</td>\n",
              "    </tr>\n",
              "    <tr>\n",
              "      <th>mean</th>\n",
              "      <td>2014.0</td>\n",
              "      <td>90.451451</td>\n",
              "      <td>3.810811</td>\n",
              "      <td>6.594757</td>\n",
              "      <td>43.413464</td>\n",
              "      <td>0.111575</td>\n",
              "      <td>4.023374e+05</td>\n",
              "    </tr>\n",
              "    <tr>\n",
              "      <th>std</th>\n",
              "      <td>0.0</td>\n",
              "      <td>36.268557</td>\n",
              "      <td>1.193353</td>\n",
              "      <td>0.182657</td>\n",
              "      <td>0.108505</td>\n",
              "      <td>0.119062</td>\n",
              "      <td>4.355703e+05</td>\n",
              "    </tr>\n",
              "    <tr>\n",
              "      <th>min</th>\n",
              "      <td>2014.0</td>\n",
              "      <td>14.000000</td>\n",
              "      <td>0.000000</td>\n",
              "      <td>5.747522</td>\n",
              "      <td>43.157829</td>\n",
              "      <td>0.002063</td>\n",
              "      <td>5.000000e+03</td>\n",
              "    </tr>\n",
              "    <tr>\n",
              "      <th>25%</th>\n",
              "      <td>2014.0</td>\n",
              "      <td>69.000000</td>\n",
              "      <td>3.000000</td>\n",
              "      <td>6.518627</td>\n",
              "      <td>43.319428</td>\n",
              "      <td>0.018332</td>\n",
              "      <td>2.155000e+05</td>\n",
              "    </tr>\n",
              "    <tr>\n",
              "      <th>50%</th>\n",
              "      <td>2014.0</td>\n",
              "      <td>88.000000</td>\n",
              "      <td>4.000000</td>\n",
              "      <td>6.617796</td>\n",
              "      <td>43.436563</td>\n",
              "      <td>0.062629</td>\n",
              "      <td>2.950000e+05</td>\n",
              "    </tr>\n",
              "    <tr>\n",
              "      <th>75%</th>\n",
              "      <td>2014.0</td>\n",
              "      <td>107.000000</td>\n",
              "      <td>4.000000</td>\n",
              "      <td>6.732366</td>\n",
              "      <td>43.495205</td>\n",
              "      <td>0.188892</td>\n",
              "      <td>4.250000e+05</td>\n",
              "    </tr>\n",
              "    <tr>\n",
              "      <th>max</th>\n",
              "      <td>2014.0</td>\n",
              "      <td>300.000000</td>\n",
              "      <td>9.000000</td>\n",
              "      <td>6.926844</td>\n",
              "      <td>43.774502</td>\n",
              "      <td>0.621383</td>\n",
              "      <td>5.880000e+06</td>\n",
              "    </tr>\n",
              "  </tbody>\n",
              "</table>\n",
              "</div>"
            ],
            "text/plain": [
              "       date_mutation  surface_reelle_bati  ...  distance_mer          prix\n",
              "count          999.0           999.000000  ...    999.000000  9.990000e+02\n",
              "mean          2014.0            90.451451  ...      0.111575  4.023374e+05\n",
              "std              0.0            36.268557  ...      0.119062  4.355703e+05\n",
              "min           2014.0            14.000000  ...      0.002063  5.000000e+03\n",
              "25%           2014.0            69.000000  ...      0.018332  2.155000e+05\n",
              "50%           2014.0            88.000000  ...      0.062629  2.950000e+05\n",
              "75%           2014.0           107.000000  ...      0.188892  4.250000e+05\n",
              "max           2014.0           300.000000  ...      0.621383  5.880000e+06\n",
              "\n",
              "[8 rows x 7 columns]"
            ]
          },
          "metadata": {
            "tags": []
          },
          "execution_count": 22
        }
      ]
    },
    {
      "cell_type": "code",
      "metadata": {
        "colab": {
          "base_uri": "https://localhost:8080/",
          "height": 298
        },
        "id": "Eispo79zwUsG",
        "outputId": "571c9f84-ffce-4c8e-ffa0-b136590ca7dc"
      },
      "source": [
        "data[\"prix\"].plot.line(title='Prix')"
      ],
      "execution_count": 23,
      "outputs": [
        {
          "output_type": "execute_result",
          "data": {
            "text/plain": [
              "<matplotlib.axes._subplots.AxesSubplot at 0x7f6835966c88>"
            ]
          },
          "metadata": {
            "tags": []
          },
          "execution_count": 23
        },
        {
          "output_type": "display_data",
          "data": {
            "image/png": "[encoded data removed]",
            "text/plain": [
              "<Figure size 432x288 with 1 Axes>"
            ]
          },
          "metadata": {
            "tags": [],
            "needs_background": "light"
          }
        }
      ]
    },
    {
      "cell_type": "markdown",
      "metadata": {
        "id": "TeyRowNCwcNI"
      },
      "source": [
        "#Feature selection"
      ]
    },
    {
      "cell_type": "code",
      "metadata": {
        "colab": {
          "base_uri": "https://localhost:8080/",
          "height": 721
        },
        "id": "lumLjUlgwXZb",
        "outputId": "8bb25563-a784-40ab-aa49-4cce4c12cb6b"
      },
      "source": [
        "###1. Filter Method:\r\n",
        "#Using Pearson Correlation\r\n",
        "plt.figure(figsize=(12,10))\r\n",
        "cor = data.corr()\r\n",
        "sns.heatmap(cor, annot=True, cmap=plt.cm.Reds)\r\n",
        "plt.show()"
      ],
      "execution_count": 24,
      "outputs": [
        {
          "output_type": "display_data",
          "data": {
            "image/png": "[encoded data removed]",
            "text/plain": [
              "<Figure size 864x720 with 2 Axes>"
            ]
          },
          "metadata": {
            "tags": [],
            "needs_background": "light"
          }
        }
      ]
    },
    {
      "cell_type": "code",
      "metadata": {
        "colab": {
          "base_uri": "https://localhost:8080/"
        },
        "id": "nNJu1DfIwgmf",
        "outputId": "97ce821c-17eb-4c8f-fac1-ac289ccf9f60"
      },
      "source": [
        "#Corrélation avec la variable de sortie \r\n",
        "cor_target = abs (cor [\"prix\"]) \r\n",
        "#Sélection des entités hautement corrélées \r\n",
        "pertinence_features = cor_target [cor_target> 0.3] \r\n",
        "pertinence_features"
      ],
      "execution_count": 25,
      "outputs": [
        {
          "output_type": "execute_result",
          "data": {
            "text/plain": [
              "surface_reelle_bati          0.438409\n",
              "nombre_pieces_principales    0.334194\n",
              "latitude                     0.323858\n",
              "distance_mer                 0.312837\n",
              "prix                         1.000000\n",
              "Name: prix, dtype: float64"
            ]
          },
          "metadata": {
            "tags": []
          },
          "execution_count": 25
        }
      ]
    },
    {
      "cell_type": "code",
      "metadata": {
        "id": "MTMXSMO0wj5k"
      },
      "source": [
        "data = data.drop('id_mutation',axis=1)"
      ],
      "execution_count": 26,
      "outputs": []
    },
    {
      "cell_type": "code",
      "metadata": {
        "id": "t6AbM5khwn4j"
      },
      "source": [
        "X=data.drop('prix',1)\r\n",
        "y=data['prix']"
      ],
      "execution_count": 27,
      "outputs": []
    },
    {
      "cell_type": "code",
      "metadata": {
        "colab": {
          "base_uri": "https://localhost:8080/",
          "height": 204
        },
        "id": "PRSifXOCeRtD",
        "outputId": "3a515166-ded4-4d34-d842-203721fab8a4"
      },
      "source": [
        "X.head()"
      ],
      "execution_count": 28,
      "outputs": [
        {
          "output_type": "execute_result",
          "data": {
            "text/html": [
              "<div>\n",
              "<style scoped>\n",
              "    .dataframe tbody tr th:only-of-type {\n",
              "        vertical-align: middle;\n",
              "    }\n",
              "\n",
              "    .dataframe tbody tr th {\n",
              "        vertical-align: top;\n",
              "    }\n",
              "\n",
              "    .dataframe thead th {\n",
              "        text-align: right;\n",
              "    }\n",
              "</style>\n",
              "<table border=\"1\" class=\"dataframe\">\n",
              "  <thead>\n",
              "    <tr style=\"text-align: right;\">\n",
              "      <th></th>\n",
              "      <th>date_mutation</th>\n",
              "      <th>surface_reelle_bati</th>\n",
              "      <th>nombre_pieces_principales</th>\n",
              "      <th>longitude</th>\n",
              "      <th>latitude</th>\n",
              "      <th>distance_mer</th>\n",
              "    </tr>\n",
              "  </thead>\n",
              "  <tbody>\n",
              "    <tr>\n",
              "      <th>0</th>\n",
              "      <td>2014</td>\n",
              "      <td>153</td>\n",
              "      <td>4</td>\n",
              "      <td>6.484708</td>\n",
              "      <td>43.506405</td>\n",
              "      <td>0.247504</td>\n",
              "    </tr>\n",
              "    <tr>\n",
              "      <th>1</th>\n",
              "      <td>2014</td>\n",
              "      <td>90</td>\n",
              "      <td>4</td>\n",
              "      <td>6.745540</td>\n",
              "      <td>43.461693</td>\n",
              "      <td>0.044073</td>\n",
              "    </tr>\n",
              "    <tr>\n",
              "      <th>2</th>\n",
              "      <td>2014</td>\n",
              "      <td>46</td>\n",
              "      <td>3</td>\n",
              "      <td>6.836668</td>\n",
              "      <td>43.525037</td>\n",
              "      <td>0.095206</td>\n",
              "    </tr>\n",
              "    <tr>\n",
              "      <th>3</th>\n",
              "      <td>2014</td>\n",
              "      <td>117</td>\n",
              "      <td>5</td>\n",
              "      <td>6.802083</td>\n",
              "      <td>43.433279</td>\n",
              "      <td>0.019395</td>\n",
              "    </tr>\n",
              "    <tr>\n",
              "      <th>4</th>\n",
              "      <td>2014</td>\n",
              "      <td>98</td>\n",
              "      <td>4</td>\n",
              "      <td>6.483364</td>\n",
              "      <td>43.509586</td>\n",
              "      <td>0.250950</td>\n",
              "    </tr>\n",
              "  </tbody>\n",
              "</table>\n",
              "</div>"
            ],
            "text/plain": [
              "   date_mutation  surface_reelle_bati  ...   latitude  distance_mer\n",
              "0           2014                  153  ...  43.506405      0.247504\n",
              "1           2014                   90  ...  43.461693      0.044073\n",
              "2           2014                   46  ...  43.525037      0.095206\n",
              "3           2014                  117  ...  43.433279      0.019395\n",
              "4           2014                   98  ...  43.509586      0.250950\n",
              "\n",
              "[5 rows x 6 columns]"
            ]
          },
          "metadata": {
            "tags": []
          },
          "execution_count": 28
        }
      ]
    },
    {
      "cell_type": "code",
      "metadata": {
        "id": "tGXSvmYUwpi8"
      },
      "source": [
        "X_train, X_test, y_train, y_test = train_test_split(X, y, test_size=0.2)"
      ],
      "execution_count": 29,
      "outputs": []
    },
    {
      "cell_type": "code",
      "metadata": {
        "id": "1trOYsNfwrZT"
      },
      "source": [
        "from sklearn.ensemble import RandomForestClassifier # Random Forest\r\n",
        "from sklearn.metrics import confusion_matrix # To calculate the confusion matrix\r\n",
        "from sklearn.metrics import accuracy_score #\r\n",
        "from sklearn.feature_selection import RFE # Recursive Feature Selection\r\n",
        "from sklearn.feature_selection import RFECV # Recursive Feature Selectload_irision with Cross Validation"
      ],
      "execution_count": 30,
      "outputs": []
    },
    {
      "cell_type": "code",
      "metadata": {
        "colab": {
          "base_uri": "https://localhost:8080/"
        },
        "id": "6P4-66IfwtrF",
        "outputId": "facc224b-baa9-49c3-b56b-56d306409a5b"
      },
      "source": [
        "from sklearn.feature_selection import RFE\r\n",
        "from sklearn.linear_model import LinearRegression\r\n",
        " \r\n",
        "#use linear regression as the model\r\n",
        "lr = LinearRegression()\r\n",
        "#rank all features, i.e continue the elimination until the last one\r\n",
        "rfe = RFE(lr, n_features_to_select=1)\r\n",
        "rfe.fit(X_train,y_train)"
      ],
      "execution_count": 31,
      "outputs": [
        {
          "output_type": "execute_result",
          "data": {
            "text/plain": [
              "RFE(estimator=LinearRegression(copy_X=True, fit_intercept=True, n_jobs=None,\n",
              "                               normalize=False),\n",
              "    n_features_to_select=1, step=1, verbose=0)"
            ]
          },
          "metadata": {
            "tags": []
          },
          "execution_count": 31
        }
      ]
    },
    {
      "cell_type": "markdown",
      "metadata": {
        "id": "YqljvuuUw0CH"
      },
      "source": [
        "**XGBOOST**"
      ]
    },
    {
      "cell_type": "code",
      "metadata": {
        "colab": {
          "base_uri": "https://localhost:8080/"
        },
        "id": "vLRqhe4Wwwxp",
        "outputId": "0bfa0c37-5799-488c-c34e-27cf7f6ae2e0"
      },
      "source": [
        "xgb1 = XGBRegressor()\r\n",
        "parameters = { 'learning_rate': [0.01,0.02,0.03], \r\n",
        "               'max_depth': [4,5,6],\r\n",
        "               'min_child_weight': [1,2,3],\r\n",
        "               'silent': [1],\r\n",
        "               'subsample': [0.3,0.4,0.5],\r\n",
        "               'colsample_bytree': [0.5,0.7,0.8],\r\n",
        "               'n_estimators': [400,450,550]}\r\n",
        "\r\n",
        "xgb_grid = GridSearchCV(xgb1,\r\n",
        "                        parameters,\r\n",
        "                        scoring='neg_mean_squared_error', #this line can be commented to use XGB's default metric\r\n",
        "                        cv = 5,\r\n",
        "                        n_jobs = 5,\r\n",
        "                        verbose=True)\r\n",
        "\r\n",
        "xgb_grid.fit(X_train,y_train)"
      ],
      "execution_count": 32,
      "outputs": [
        {
          "output_type": "stream",
          "text": [
            "Fitting 5 folds for each of 729 candidates, totalling 3645 fits\n"
          ],
          "name": "stdout"
        },
        {
          "output_type": "stream",
          "text": [
            "[Parallel(n_jobs=5)]: Using backend LokyBackend with 5 concurrent workers.\n",
            "[Parallel(n_jobs=5)]: Done  40 tasks      | elapsed:   12.4s\n",
            "[Parallel(n_jobs=5)]: Done 190 tasks      | elapsed:   39.1s\n",
            "[Parallel(n_jobs=5)]: Done 440 tasks      | elapsed:  1.5min\n",
            "[Parallel(n_jobs=5)]: Done 790 tasks      | elapsed:  2.6min\n",
            "[Parallel(n_jobs=5)]: Done 1240 tasks      | elapsed:  4.0min\n",
            "[Parallel(n_jobs=5)]: Done 1790 tasks      | elapsed:  5.9min\n",
            "[Parallel(n_jobs=5)]: Done 2440 tasks      | elapsed:  8.2min\n",
            "[Parallel(n_jobs=5)]: Done 3190 tasks      | elapsed: 10.8min\n",
            "[Parallel(n_jobs=5)]: Done 3645 out of 3645 | elapsed: 12.4min finished\n"
          ],
          "name": "stderr"
        },
        {
          "output_type": "execute_result",
          "data": {
            "text/plain": [
              "GridSearchCV(cv=5, error_score=nan,\n",
              "             estimator=XGBRegressor(base_score=0.5, booster='gbtree',\n",
              "                                    colsample_bylevel=1, colsample_bynode=1,\n",
              "                                    colsample_bytree=1, gamma=0,\n",
              "                                    importance_type='gain', learning_rate=0.1,\n",
              "                                    max_delta_step=0, max_depth=3,\n",
              "                                    min_child_weight=1, missing=None,\n",
              "                                    n_estimators=100, n_jobs=1, nthread=None,\n",
              "                                    objective='reg:linear', random_state=0,\n",
              "                                    reg_alpha=0, reg_...\n",
              "                                    subsample=1, verbosity=1),\n",
              "             iid='deprecated', n_jobs=5,\n",
              "             param_grid={'colsample_bytree': [0.5, 0.7, 0.8],\n",
              "                         'learning_rate': [0.01, 0.02, 0.03],\n",
              "                         'max_depth': [4, 5, 6], 'min_child_weight': [1, 2, 3],\n",
              "                         'n_estimators': [400, 450, 550], 'silent': [1],\n",
              "                         'subsample': [0.3, 0.4, 0.5]},\n",
              "             pre_dispatch='2*n_jobs', refit=True, return_train_score=False,\n",
              "             scoring='neg_mean_squared_error', verbose=True)"
            ]
          },
          "metadata": {
            "tags": []
          },
          "execution_count": 32
        }
      ]
    },
    {
      "cell_type": "code",
      "metadata": {
        "colab": {
          "base_uri": "https://localhost:8080/"
        },
        "id": "Qs5BjoBGw39U",
        "outputId": "7294148e-3fe1-4061-bcfd-2e58b2a8e9d2"
      },
      "source": [
        "# Print the best parameters and lowest RMSE\r\n",
        "print(\"Best parameters found: \", xgb_grid.best_params_)\r\n",
        "print(\"Lowest RMSE found: \", np.sqrt(np.abs(xgb_grid.best_score_)))"
      ],
      "execution_count": 33,
      "outputs": [
        {
          "output_type": "stream",
          "text": [
            "Best parameters found:  {'colsample_bytree': 0.7, 'learning_rate': 0.03, 'max_depth': 4, 'min_child_weight': 1, 'n_estimators': 400, 'silent': 1, 'subsample': 0.4}\n",
            "Lowest RMSE found:  287620.59295043844\n"
          ],
          "name": "stdout"
        }
      ]
    },
    {
      "cell_type": "code",
      "metadata": {
        "id": "hS_Xf9v5xGBA"
      },
      "source": [
        "pred_xgboost=xgb_grid.predict(X_test)"
      ],
      "execution_count": 34,
      "outputs": []
    },
    {
      "cell_type": "code",
      "metadata": {
        "colab": {
          "base_uri": "https://localhost:8080/"
        },
        "id": "D6thsFm4xH5v",
        "outputId": "9122d02a-59cf-473e-94c5-9af1d5f9031b"
      },
      "source": [
        "mse_xgboost= mean_squared_error(y_test,pred_xgboost)\r\n",
        "rmse_xgboost=np.sqrt(np.abs(xgb_grid.best_score_))\r\n",
        "mae_xgboost =mean_absolute_error(pred_xgboost, y_test)\r\n",
        "def mean_absolute_percentage_error(y_true, y_pred): \r\n",
        "    y_true, y_pred = np.array(y_true), np.array(y_pred)\r\n",
        "    return np.mean(np.abs((y_true - y_pred) / y_true)) * 100\r\n",
        "mape_xgboost=mean_absolute_percentage_error(y_test,pred_xgboost)\r\n",
        "print('\\nMean Square error\" ',mse_xgboost)\r\n",
        "print(\"Lowest RMSE found: \", rmse_xgboost)\r\n",
        "print(\"Mean Absolute Error : \" + str(mae_xgboost))\r\n",
        "print(\"Mean Absolute percentage Error : \" + str(mape_xgboost))"
      ],
      "execution_count": 35,
      "outputs": [
        {
          "output_type": "stream",
          "text": [
            "\n",
            "Mean Square error\"  55538343637.34793\n",
            "Lowest RMSE found:  287620.59295043844\n",
            "Mean Absolute Error : 127822.336075\n",
            "Mean Absolute percentage Error : 37.9297559696627\n"
          ],
          "name": "stdout"
        }
      ]
    },
    {
      "cell_type": "markdown",
      "metadata": {
        "id": "wgPBELzExNwP"
      },
      "source": [
        "**Random Forest**"
      ]
    },
    {
      "cell_type": "code",
      "metadata": {
        "colab": {
          "base_uri": "https://localhost:8080/"
        },
        "id": "-oJmdRUexK4c",
        "outputId": "f07c4bfb-9d82-4953-b84e-a1f4fbd96726"
      },
      "source": [
        "reg=RandomForestRegressor()\r\n",
        "parameters={\r\n",
        "    'max_depth' :[10,20,40,50,70,80,90],\r\n",
        "    'n_estimators':[100,200,400,700,900]\r\n",
        "    \r\n",
        "}\r\n",
        "gridforest=GridSearchCV(reg,parameters,cv=5,n_jobs=-1,verbose=1)\r\n",
        "gridforest.fit(X_train,y_train)\r\n",
        "gridforest.best_params_"
      ],
      "execution_count": 36,
      "outputs": [
        {
          "output_type": "stream",
          "text": [
            "Fitting 5 folds for each of 35 candidates, totalling 175 fits\n"
          ],
          "name": "stdout"
        },
        {
          "output_type": "stream",
          "text": [
            "[Parallel(n_jobs=-1)]: Using backend LokyBackend with 2 concurrent workers.\n",
            "[Parallel(n_jobs=-1)]: Done  46 tasks      | elapsed:   47.6s\n",
            "[Parallel(n_jobs=-1)]: Done 175 out of 175 | elapsed:  3.4min finished\n"
          ],
          "name": "stderr"
        },
        {
          "output_type": "execute_result",
          "data": {
            "text/plain": [
              "{'max_depth': 70, 'n_estimators': 100}"
            ]
          },
          "metadata": {
            "tags": []
          },
          "execution_count": 36
        }
      ]
    },
    {
      "cell_type": "code",
      "metadata": {
        "id": "350RqeyexRcV"
      },
      "source": [
        "pred_rf=gridforest.predict(X_test)"
      ],
      "execution_count": 37,
      "outputs": []
    },
    {
      "cell_type": "code",
      "metadata": {
        "colab": {
          "base_uri": "https://localhost:8080/"
        },
        "id": "rLggvFT_xUtg",
        "outputId": "5f959946-ce23-404a-bdfe-1bf1cddc0e85"
      },
      "source": [
        "mse_rf= mean_squared_error(y_test,pred_rf)\r\n",
        "rmse_rf = sqrt(mean_squared_error(y_true=y_test,y_pred=pred_rf))\r\n",
        "mae_rf =mean_absolute_error(pred_rf, y_test)\r\n",
        "def mean_absolute_percentage_error(y_true, y_pred): \r\n",
        "    y_true, y_pred = np.array(y_true), np.array(y_pred)\r\n",
        "    return np.mean(np.abs((y_true - y_pred) / y_true)) * 100\r\n",
        "mape_rf=mean_absolute_percentage_error(y_test,pred_rf)\r\n",
        "print('\\nMean Square error\" ',mse_rf)\r\n",
        "print(\"Root Mean Square error: \", rmse_rf)\r\n",
        "print(\"Mean Absolute Error : \" + str(mae_rf))\r\n",
        "print(\"Mean Absolute percentage Error : \" + str(mape_rf))"
      ],
      "execution_count": 38,
      "outputs": [
        {
          "output_type": "stream",
          "text": [
            "\n",
            "Mean Square error\"  32148628255.04041\n",
            "Root Mean Square error:  179300.38554069094\n",
            "Mean Absolute Error : 112412.49090464681\n",
            "Mean Absolute percentage Error : 34.97122260442373\n"
          ],
          "name": "stdout"
        }
      ]
    },
    {
      "cell_type": "markdown",
      "metadata": {
        "id": "8wGmXATKxaNn"
      },
      "source": [
        "**SVR**"
      ]
    },
    {
      "cell_type": "code",
      "metadata": {
        "colab": {
          "base_uri": "https://localhost:8080/"
        },
        "id": "xj-u4uKVxXWH",
        "outputId": "115c297d-150c-45dd-e51a-faf2f147fb95"
      },
      "source": [
        "parameters = {'kernel': ('linear', 'rbf','poly'), 'C':[1.5,3,7 ,10,12,15,17],'gamma': [1e-15,1e-10,1e-7, 1e-4],'epsilon':[0.01,0.05,0.1,0.2,0.5,0.3]}\r\n",
        "svr = SVR()\r\n",
        "clf = GridSearchCV(svr, parameters)\r\n",
        "clf.fit(X_train,y_train)\r\n",
        "clf.best_params_"
      ],
      "execution_count": 39,
      "outputs": [
        {
          "output_type": "execute_result",
          "data": {
            "text/plain": [
              "{'C': 17, 'epsilon': 0.01, 'gamma': 0.0001, 'kernel': 'poly'}"
            ]
          },
          "metadata": {
            "tags": []
          },
          "execution_count": 39
        }
      ]
    },
    {
      "cell_type": "code",
      "metadata": {
        "id": "_I-TWAoHxd_0"
      },
      "source": [
        "pred_svr=clf.predict(X_test)"
      ],
      "execution_count": 40,
      "outputs": []
    },
    {
      "cell_type": "code",
      "metadata": {
        "colab": {
          "base_uri": "https://localhost:8080/"
        },
        "id": "vU-6dmCrxftI",
        "outputId": "81960d2d-5378-446f-a24c-b92d795ee885"
      },
      "source": [
        "mse_svr= mean_squared_error(y_test,pred_svr)\r\n",
        "rmse_svr = sqrt(mean_squared_error(y_true=y_test,y_pred=pred_svr))\r\n",
        "mae_svr =mean_absolute_error(pred_svr, y_test)\r\n",
        "def mean_absolute_percentage_error(y_true, y_pred): \r\n",
        "    y_true, y_pred = np.array(y_true), np.array(y_pred)\r\n",
        "    return np.mean(np.abs((y_true - y_pred) / y_true)) * 100\r\n",
        "mape_svr=mean_absolute_percentage_error(y_test,pred_svr)\r\n",
        "print('\\nMean Square error\" ',mse_svr)\r\n",
        "print(\"Root Mean Square error: \", rmse_svr)\r\n",
        "print(\"Mean Absolute Error : \" + str(mae_svr))\r\n",
        "print(\"Mean Absolute percentage Error : \" + str(mape_svr))"
      ],
      "execution_count": 41,
      "outputs": [
        {
          "output_type": "stream",
          "text": [
            "\n",
            "Mean Square error\"  116216851746.94324\n",
            "Root Mean Square error:  340905.9280020564\n",
            "Mean Absolute Error : 162884.89619655738\n",
            "Mean Absolute percentage Error : 39.9089227859207\n"
          ],
          "name": "stdout"
        }
      ]
    },
    {
      "cell_type": "markdown",
      "metadata": {
        "id": "F1QGD1kPxkNH"
      },
      "source": [
        " **K-Neighbors Regressor**"
      ]
    },
    {
      "cell_type": "code",
      "metadata": {
        "id": "f7atCOM5xiAl"
      },
      "source": [
        "from sklearn.neighbors import KNeighborsRegressor"
      ],
      "execution_count": 42,
      "outputs": []
    },
    {
      "cell_type": "code",
      "metadata": {
        "colab": {
          "base_uri": "https://localhost:8080/"
        },
        "id": "yz_Jrvonxru1",
        "outputId": "fcaa0d87-d03f-49ca-e878-9f853da22d80"
      },
      "source": [
        "knn = KNeighborsRegressor()\r\n",
        "k_range = list(range(1, 31))\r\n",
        "param_grid = dict(n_neighbors=k_range)\r\n",
        "# instantiate the grid\r\n",
        "grid = GridSearchCV(knn, param_grid, cv=10)\r\n",
        "# fit the grid with data\r\n",
        "grid.fit(X_train, y_train)"
      ],
      "execution_count": 43,
      "outputs": [
        {
          "output_type": "execute_result",
          "data": {
            "text/plain": [
              "GridSearchCV(cv=10, error_score=nan,\n",
              "             estimator=KNeighborsRegressor(algorithm='auto', leaf_size=30,\n",
              "                                           metric='minkowski',\n",
              "                                           metric_params=None, n_jobs=None,\n",
              "                                           n_neighbors=5, p=2,\n",
              "                                           weights='uniform'),\n",
              "             iid='deprecated', n_jobs=None,\n",
              "             param_grid={'n_neighbors': [1, 2, 3, 4, 5, 6, 7, 8, 9, 10, 11, 12,\n",
              "                                         13, 14, 15, 16, 17, 18, 19, 20, 21, 22,\n",
              "                                         23, 24, 25, 26, 27, 28, 29, 30]},\n",
              "             pre_dispatch='2*n_jobs', refit=True, return_train_score=False,\n",
              "             scoring=None, verbose=0)"
            ]
          },
          "metadata": {
            "tags": []
          },
          "execution_count": 43
        }
      ]
    },
    {
      "cell_type": "code",
      "metadata": {
        "colab": {
          "base_uri": "https://localhost:8080/"
        },
        "id": "rjd2uFQTxthV",
        "outputId": "23726934-747d-4f9a-9ff2-5f835f01572c"
      },
      "source": [
        "grid.best_estimator_"
      ],
      "execution_count": 44,
      "outputs": [
        {
          "output_type": "execute_result",
          "data": {
            "text/plain": [
              "KNeighborsRegressor(algorithm='auto', leaf_size=30, metric='minkowski',\n",
              "                    metric_params=None, n_jobs=None, n_neighbors=19, p=2,\n",
              "                    weights='uniform')"
            ]
          },
          "metadata": {
            "tags": []
          },
          "execution_count": 44
        }
      ]
    },
    {
      "cell_type": "code",
      "metadata": {
        "id": "QjRJ_ZWTxvos"
      },
      "source": [
        "pred_knn=grid.predict(X_test)"
      ],
      "execution_count": 45,
      "outputs": []
    },
    {
      "cell_type": "code",
      "metadata": {
        "colab": {
          "base_uri": "https://localhost:8080/"
        },
        "id": "jPZJD0fOxyEs",
        "outputId": "378cd1b4-6797-4c37-bde2-2e648219bd39"
      },
      "source": [
        "mse_knn= mean_squared_error(y_test,pred_knn)\r\n",
        "rmse_knn = sqrt(mean_squared_error(y_true=y_test,y_pred=pred_knn))\r\n",
        "mae_knn=mean_absolute_error(pred_knn, y_test)\r\n",
        "def mean_absolute_percentage_error(y_true, y_pred): \r\n",
        "    y_true, y_pred = np.array(y_true), np.array(y_pred)\r\n",
        "    return np.mean(np.abs((y_true - y_pred) / y_true)) * 100\r\n",
        "mape_knn=mean_absolute_percentage_error(y_test,pred_knn)\r\n",
        "print('\\nMean Square error\" ',mse_knn)\r\n",
        "print(\"Root Mean Square error: \", rmse_knn)\r\n",
        "print(\"Mean Absolute Error : \" + str(mae_knn))\r\n",
        "print(\"Mean Absolute percentage Error : \" + str(mape_knn))"
      ],
      "execution_count": 46,
      "outputs": [
        {
          "output_type": "stream",
          "text": [
            "\n",
            "Mean Square error\"  112090706657.57693\n",
            "Root Mean Square error:  334799.50217641745\n",
            "Mean Absolute Error : 186202.39457105263\n",
            "Mean Absolute percentage Error : 56.595887185915316\n"
          ],
          "name": "stdout"
        }
      ]
    },
    {
      "cell_type": "markdown",
      "metadata": {
        "id": "51vZ6bnNx2gt"
      },
      "source": [
        "**Compare Models**"
      ]
    },
    {
      "cell_type": "code",
      "metadata": {
        "id": "NWiWZVZFxz-_"
      },
      "source": [
        "model=[\"Xgboost\",\"RandomForest\",\"SVR\",\"Knn\"]\r\n",
        "mse=[mse_xgboost,mse_rf,mse_svr,mse_knn]\r\n",
        "rmse=[rmse_xgboost,rmse_rf,rmse_svr,rmse_knn]\r\n",
        "mae=[mae_xgboost,mae_rf,mae_svr,mae_knn]\r\n",
        "mape=[mape_xgboost,mape_rf,mape_svr,mape_knn]"
      ],
      "execution_count": 47,
      "outputs": []
    },
    {
      "cell_type": "code",
      "metadata": {
        "id": "mv67CqaZx5p_"
      },
      "source": [
        "Data={\"model\":model,\"mse\":mse,\"rmse\":rmse,\"mae\":mae,\"mape\":mape}"
      ],
      "execution_count": 48,
      "outputs": []
    },
    {
      "cell_type": "code",
      "metadata": {
        "colab": {
          "base_uri": "https://localhost:8080/",
          "height": 173
        },
        "id": "f9RT538Qx-p4",
        "outputId": "04a2004b-f241-492b-93f3-be4abceef8da"
      },
      "source": [
        "compare=pd.DataFrame(Data)\r\n",
        "compare.head()"
      ],
      "execution_count": 49,
      "outputs": [
        {
          "output_type": "execute_result",
          "data": {
            "text/html": [
              "<div>\n",
              "<style scoped>\n",
              "    .dataframe tbody tr th:only-of-type {\n",
              "        vertical-align: middle;\n",
              "    }\n",
              "\n",
              "    .dataframe tbody tr th {\n",
              "        vertical-align: top;\n",
              "    }\n",
              "\n",
              "    .dataframe thead th {\n",
              "        text-align: right;\n",
              "    }\n",
              "</style>\n",
              "<table border=\"1\" class=\"dataframe\">\n",
              "  <thead>\n",
              "    <tr style=\"text-align: right;\">\n",
              "      <th></th>\n",
              "      <th>model</th>\n",
              "      <th>mse</th>\n",
              "      <th>rmse</th>\n",
              "      <th>mae</th>\n",
              "      <th>mape</th>\n",
              "    </tr>\n",
              "  </thead>\n",
              "  <tbody>\n",
              "    <tr>\n",
              "      <th>0</th>\n",
              "      <td>Xgboost</td>\n",
              "      <td>5.553834e+10</td>\n",
              "      <td>287620.592950</td>\n",
              "      <td>127822.336075</td>\n",
              "      <td>37.929756</td>\n",
              "    </tr>\n",
              "    <tr>\n",
              "      <th>1</th>\n",
              "      <td>RandomForest</td>\n",
              "      <td>3.214863e+10</td>\n",
              "      <td>179300.385541</td>\n",
              "      <td>112412.490905</td>\n",
              "      <td>34.971223</td>\n",
              "    </tr>\n",
              "    <tr>\n",
              "      <th>2</th>\n",
              "      <td>SVR</td>\n",
              "      <td>1.162169e+11</td>\n",
              "      <td>340905.928002</td>\n",
              "      <td>162884.896197</td>\n",
              "      <td>39.908923</td>\n",
              "    </tr>\n",
              "    <tr>\n",
              "      <th>3</th>\n",
              "      <td>Knn</td>\n",
              "      <td>1.120907e+11</td>\n",
              "      <td>334799.502176</td>\n",
              "      <td>186202.394571</td>\n",
              "      <td>56.595887</td>\n",
              "    </tr>\n",
              "  </tbody>\n",
              "</table>\n",
              "</div>"
            ],
            "text/plain": [
              "          model           mse           rmse            mae       mape\n",
              "0       Xgboost  5.553834e+10  287620.592950  127822.336075  37.929756\n",
              "1  RandomForest  3.214863e+10  179300.385541  112412.490905  34.971223\n",
              "2           SVR  1.162169e+11  340905.928002  162884.896197  39.908923\n",
              "3           Knn  1.120907e+11  334799.502176  186202.394571  56.595887"
            ]
          },
          "metadata": {
            "tags": []
          },
          "execution_count": 49
        }
      ]
    },
    {
      "cell_type": "code",
      "metadata": {
        "id": "O4TNKsXv0t26"
      },
      "source": [
        "import pickle"
      ],
      "execution_count": 50,
      "outputs": []
    },
    {
      "cell_type": "code",
      "metadata": {
        "id": "xcwrItJnyBJR"
      },
      "source": [
        "pickle.dump(gridforest, open('./model/model.pkl','wb'))"
      ],
      "execution_count": 52,
      "outputs": []
    },
    {
      "cell_type": "code",
      "metadata": {
        "id": "uLvaCSUZyEDs"
      },
      "source": [
        ""
      ],
      "execution_count": null,
      "outputs": []
    }
  ]
}